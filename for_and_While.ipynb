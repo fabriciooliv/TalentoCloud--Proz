{
  "nbformat": 4,
  "nbformat_minor": 0,
  "metadata": {
    "colab": {
      "provenance": []
    },
    "kernelspec": {
      "name": "python3",
      "display_name": "Python 3"
    },
    "language_info": {
      "name": "python"
    }
  },
  "cells": [
    {
      "cell_type": "markdown",
      "source": [
        "# DESENVOLVIMENTO 3 - PROZ\n",
        "\n",
        "\n",
        "Precisamos imprimir um número para cada andar de um hotel de 20 andares. Porém, o dono do hotel é supersticioso e optou por não ter um 13ro andar.\n",
        "\n",
        "Escreva um código que imprima todos os números exceto o número 13.\n",
        "Escreva mais um código que resolva o mesmo problema, mas dessa vez usando o laço de repetição 'while'.\n",
        "\n",
        "Como desafio, imprima eles em ordem decrescente (20, 19, 18...).\n"
      ],
      "metadata": {
        "id": "_7TDjPW_mN27"
      }
    },
    {
      "cell_type": "markdown",
      "source": [
        "Utilizando laço de repetição 'for' em ordem decrescente"
      ],
      "metadata": {
        "id": "NahLbSzHnIzi"
      }
    },
    {
      "cell_type": "code",
      "execution_count": null,
      "metadata": {
        "id": "61pJ9s_0mIhV"
      },
      "outputs": [],
      "source": [
        "for andar in range(20, 0, -1):\n",
        "    if andar == 13:\n",
        "        continue\n",
        "    print(andar)"
      ]
    },
    {
      "cell_type": "markdown",
      "source": [
        "Utilizando laço de repetição 'while' em ordem decrescente"
      ],
      "metadata": {
        "id": "bUcfoobsnRMN"
      }
    },
    {
      "cell_type": "code",
      "source": [
        "andar = 20\n",
        "while andar >= 1:\n",
        "    if andar != 13:\n",
        "        print(andar)\n",
        "    andar -= 1"
      ],
      "metadata": {
        "id": "HVkt8PEnnVwc"
      },
      "execution_count": null,
      "outputs": []
    }
  ]
}