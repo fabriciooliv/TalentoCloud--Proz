{
  "nbformat": 4,
  "nbformat_minor": 0,
  "metadata": {
    "colab": {
      "provenance": [],
      "authorship_tag": "ABX9TyNcC7bjys7J9mJ4DSRUsJjv",
      "include_colab_link": true
    },
    "kernelspec": {
      "name": "python3",
      "display_name": "Python 3"
    },
    "language_info": {
      "name": "python"
    }
  },
  "cells": [
    {
      "cell_type": "markdown",
      "metadata": {
        "id": "view-in-github",
        "colab_type": "text"
      },
      "source": [
        "<a href=\"https://colab.research.google.com/github/fabriciooliv/prozTalentoCloud/blob/main/calculadora_loop.ipynb\" target=\"_parent\"><img src=\"https://colab.research.google.com/assets/colab-badge.svg\" alt=\"Open In Colab\"/></a>"
      ]
    },
    {
      "cell_type": "markdown",
      "source": [
        "# DESENVOLVIMENTO 4\n",
        "Faça uma função calculadora que os números e as operações serão feitas pelo usuário. O código deve ficar rodando infinitamente até que o usuário escolha a opção de sair. No início, o programa mostrará a seguinte lista de operações:\n",
        "\n",
        "1: Soma\n",
        "\n",
        "2: Subtração\n",
        "\n",
        "3: Multiplicação\n",
        "\n",
        "4: Divisão\n",
        "\n",
        "0: Sair\n",
        "\n",
        "Digite o número para a operação correspondente e caso o usuário introduza qualquer outro, o sistema deve mostrar a mensagem “Essa opção não existe” e voltar ao menu de opções."
      ],
      "metadata": {
        "id": "ZoYP7tZ4UwO-"
      }
    },
    {
      "cell_type": "code",
      "source": [
        "def calculadora():\n",
        "    while True:\n",
        "        # Mostra o menu de operações\n",
        "        print(\"\\nEscolha a operação:\")\n",
        "        print(\"1: Soma\")\n",
        "        print(\"2: Subtração\")\n",
        "        print(\"3: Multiplicação\")\n",
        "        print(\"4: Divisão\")\n",
        "        print(\"0: Sair\")\n",
        "\n",
        "        # Ler a opção escolhida pelo o usuário\n",
        "        operacao = input(\"Digite o número para a operação correspondente: \")\n",
        "\n",
        "        # Verifica se o usuário deseja sair\n",
        "        if operacao == '0':\n",
        "            print(\"Sistema finalizado com sucesso\")\n",
        "            break\n",
        "\n",
        "        # Verifica se a operação é válida\n",
        "        if operacao != ['1', '2', '3', '4']:\n",
        "            print(\"Essa opção não existe\")\n",
        "            continue\n",
        "\n",
        "        # Ler os dois números para a operação\n",
        "        try:\n",
        "            num1 = float(input(\"Digite o primeiro valor: \"))\n",
        "            num2 = float(input(\"Digite o segundo valor: \"))\n",
        "        except ValueError:\n",
        "            print(\"Valores invalido\")\n",
        "            continue\n",
        "\n",
        "        # Executar a operação correspondente e mostrar o resultado\n",
        "        if operacao == '1':\n",
        "            resultado = num1 + num2\n",
        "            print(f\"Resultado da soma: {resultado}\")\n",
        "        elif operacao == '2':\n",
        "            resultado = num1 - num2\n",
        "            print(f\"Resultado da subtração: {resultado}\")\n",
        "        elif operacao == '3':\n",
        "            resultado = num1 * num2\n",
        "            print(f\"Resultado da multiplicação: {resultado}\")\n",
        "        elif operacao == '4':\n",
        "            if num2 == 0:\n",
        "                print(\"Divisão por zero não permitida\")\n",
        "            else:\n",
        "                resultado = num1 / num2\n",
        "                print(f\"Resultado da divisão: {resultado}\")\n",
        "\n",
        "# Chamar a função calculadora para iniciar o programa\n",
        "calculadora()"
      ],
      "metadata": {
        "colab": {
          "base_uri": "https://localhost:8080/"
        },
        "id": "i-YcOSGvXqy4",
        "outputId": "e5f69482-30ee-45f2-e466-21612db049ff"
      },
      "execution_count": 6,
      "outputs": [
        {
          "output_type": "stream",
          "name": "stdout",
          "text": [
            "\n",
            "Escolha a operação:\n",
            "1: Soma\n",
            "2: Subtração\n",
            "3: Multiplicação\n",
            "4: Divisão\n",
            "0: Sair\n",
            "Digite o número para a operação correspondente: 5\n",
            "Essa opção não existe\n",
            "\n",
            "Escolha a operação:\n",
            "1: Soma\n",
            "2: Subtração\n",
            "3: Multiplicação\n",
            "4: Divisão\n",
            "0: Sair\n",
            "Digite o número para a operação correspondente: 0\n",
            "Saindo...\n"
          ]
        }
      ]
    }
  ]
}